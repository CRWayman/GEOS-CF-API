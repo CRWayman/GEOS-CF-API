{
 "cells": [
  {
   "cell_type": "raw",
   "id": "bad99edd",
   "metadata": {},
   "source": [
    "# CFAPI\n",
    "\n",
    "The CFAPI is a utility that allows users to interact with GEOS Composition Forecast (GEOS-CF) data. \n",
    "\n",
    "The API has several "
   ]
  },
  {
   "cell_type": "code",
   "execution_count": 3,
   "id": "9a0757ea",
   "metadata": {},
   "outputs": [],
   "source": [
    "import json\n",
    "from urllib.request import urlopen"
   ]
  },
  {
   "cell_type": "code",
   "execution_count": 5,
   "id": "91b4f591",
   "metadata": {},
   "outputs": [
    {
     "data": {
      "text/plain": [
       "{'Historical AQC Data Sets': {'All Data': {'Base URI': '/aqc/<collection>/<product>/<lat>x<lon>/<start_date>/',\n",
       "   'Default Values': {'collection': 'assim',\n",
       "    'lat': '38.9',\n",
       "    'lon': '-77.0',\n",
       "    'product': 'NO2',\n",
       "    'start_date': 'latest'},\n",
       "   'collections': ['fcast', 'assim'],\n",
       "   'products': ['NO2', 'O3', 'PM25'],\n",
       "   'start_date': 'YYYYMMDD or latest'}},\n",
       " 'Primary Data Sets': {'Chem': {'Base URI': '/cfapi/<collection>/<dataset>/<product>/<lat>x<lon>/',\n",
       "   'Default Values': {'collection': 'fcast',\n",
       "    'dataset': 'chm_v1',\n",
       "    'date': 'latest',\n",
       "    'lat': '38.9',\n",
       "    'lon': '-77.0',\n",
       "    'product': 'NO2'},\n",
       "   'collections': ['fcast', 'assim'],\n",
       "   'datasets': ['chm_p23', 'chm_v1'],\n",
       "   'date': 'YYYMMDD or latest',\n",
       "   'products': ['NO2', 'O3', 'PM25']},\n",
       "  'Met': {'Base Met Data URI': '/cfapi/<collection>/met/<lat>x<lon>/',\n",
       "   'Default Values': {'collection': 'fcast', 'lat': '38.9', 'lon': '-77.0'},\n",
       "   'collections': ['fcast', 'assim']}}}"
      ]
     },
     "execution_count": 5,
     "metadata": {},
     "output_type": "execute_result"
    }
   ],
   "source": [
    "url = 'https://fluid.nccs.nasa.gov/cfapi/'\n",
    "\n",
    "response = urlopen(url)\n",
    "\n",
    "data = json.loads(response.read())\n",
    "\n",
    "data"
   ]
  },
  {
   "cell_type": "markdown",
   "id": "2075263c",
   "metadata": {},
   "source": [
    "## Viewing a forecast data set\n",
    "\n",
    "- Select collection\n",
    "- Select dataset\n",
    "- Select product\n",
    "- Select lat/lon"
   ]
  },
  {
   "cell_type": "code",
   "execution_count": null,
   "id": "35cb0db6",
   "metadata": {},
   "outputs": [],
   "source": [
    "collection = \n",
    "\n",
    "url = f'https://fluid.nccs.nasa.gov/cfapi/{collection}/{dataset}/{}'"
   ]
  }
 ],
 "metadata": {
  "kernelspec": {
   "display_name": "Python 3 (ipykernel)",
   "language": "python",
   "name": "python3"
  },
  "language_info": {
   "codemirror_mode": {
    "name": "ipython",
    "version": 3
   },
   "file_extension": ".py",
   "mimetype": "text/x-python",
   "name": "python",
   "nbconvert_exporter": "python",
   "pygments_lexer": "ipython3",
   "version": "3.8.17"
  }
 },
 "nbformat": 4,
 "nbformat_minor": 5
}
